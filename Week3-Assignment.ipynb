{
 "cells": [
  {
   "cell_type": "markdown",
   "metadata": {},
   "source": [
    "# Assignment WEEK 3\n",
    "\n",
    "## Covid-19 dataset in South Korea"
   ]
  },
  {
   "cell_type": "markdown",
   "metadata": {},
   "source": [
    "### Data description"
   ]
  },
  {
   "cell_type": "markdown",
   "metadata": {},
   "source": [
    "The dataset was part of the Pyladies bootcamp and it was obtained from https://www.kaggle.com/kimjihoo/coronavirusdataset\n",
    "\n",
    "The dataset contains a total of 12 files, and in this practice I will explore only one file which is called Case.csv and all given cases are reported in different province of South Korea.\n",
    "\n",
    "This file contain a total of 8 columns, which are: case_id, province, city, group, infection_case, confirmed, latitude, longitude\n",
    "\n",
    "- Data Analysis\n",
    "Data is analysed by using different python libraries: pandas, numpy and matplotlib.\n",
    "\n",
    "Questions on which we will try to answer are: \n",
    " - How many unique cities/provinces does the file contain?\n",
    " - How many confirmed cases are in each province?\n",
    " - Show a top five provinces with most confirmed cases?\n",
    " - How many confirmed cases are in each province taking into account group column?\n",
    " "
   ]
  },
  {
   "cell_type": "code",
   "execution_count": 137,
   "metadata": {},
   "outputs": [
    {
     "data": {
      "text/html": [
       "<div>\n",
       "<style scoped>\n",
       "    .dataframe tbody tr th:only-of-type {\n",
       "        vertical-align: middle;\n",
       "    }\n",
       "\n",
       "    .dataframe tbody tr th {\n",
       "        vertical-align: top;\n",
       "    }\n",
       "\n",
       "    .dataframe thead th {\n",
       "        text-align: right;\n",
       "    }\n",
       "</style>\n",
       "<table border=\"1\" class=\"dataframe\">\n",
       "  <thead>\n",
       "    <tr style=\"text-align: right;\">\n",
       "      <th></th>\n",
       "      <th>case_id</th>\n",
       "      <th>province</th>\n",
       "      <th>city</th>\n",
       "      <th>group</th>\n",
       "      <th>infection_case</th>\n",
       "      <th>confirmed</th>\n",
       "      <th>latitude</th>\n",
       "      <th>longitude</th>\n",
       "    </tr>\n",
       "  </thead>\n",
       "  <tbody>\n",
       "    <tr>\n",
       "      <th>0</th>\n",
       "      <td>1000001</td>\n",
       "      <td>Seoul</td>\n",
       "      <td>Guro-gu</td>\n",
       "      <td>True</td>\n",
       "      <td>Guro-gu Call Center</td>\n",
       "      <td>98</td>\n",
       "      <td>37.508163</td>\n",
       "      <td>126.884387</td>\n",
       "    </tr>\n",
       "    <tr>\n",
       "      <th>1</th>\n",
       "      <td>1000002</td>\n",
       "      <td>Seoul</td>\n",
       "      <td>Dongdaemun-gu</td>\n",
       "      <td>True</td>\n",
       "      <td>Dongan Church</td>\n",
       "      <td>20</td>\n",
       "      <td>37.592888</td>\n",
       "      <td>127.056766</td>\n",
       "    </tr>\n",
       "    <tr>\n",
       "      <th>2</th>\n",
       "      <td>1000003</td>\n",
       "      <td>Seoul</td>\n",
       "      <td>Guro-gu</td>\n",
       "      <td>True</td>\n",
       "      <td>Manmin Central Church</td>\n",
       "      <td>41</td>\n",
       "      <td>37.481059</td>\n",
       "      <td>126.894343</td>\n",
       "    </tr>\n",
       "    <tr>\n",
       "      <th>3</th>\n",
       "      <td>1000004</td>\n",
       "      <td>Seoul</td>\n",
       "      <td>Eunpyeong-gu</td>\n",
       "      <td>True</td>\n",
       "      <td>Eunpyeong St. Mary's Hospital</td>\n",
       "      <td>14</td>\n",
       "      <td>37.63369</td>\n",
       "      <td>126.9165</td>\n",
       "    </tr>\n",
       "    <tr>\n",
       "      <th>4</th>\n",
       "      <td>1000005</td>\n",
       "      <td>Seoul</td>\n",
       "      <td>Seongdong-gu</td>\n",
       "      <td>True</td>\n",
       "      <td>Seongdong-gu APT</td>\n",
       "      <td>13</td>\n",
       "      <td>37.55713</td>\n",
       "      <td>127.0403</td>\n",
       "    </tr>\n",
       "  </tbody>\n",
       "</table>\n",
       "</div>"
      ],
      "text/plain": [
       "   case_id province           city  group                 infection_case  \\\n",
       "0  1000001    Seoul        Guro-gu   True            Guro-gu Call Center   \n",
       "1  1000002    Seoul  Dongdaemun-gu   True                  Dongan Church   \n",
       "2  1000003    Seoul        Guro-gu   True          Manmin Central Church   \n",
       "3  1000004    Seoul   Eunpyeong-gu   True  Eunpyeong St. Mary's Hospital   \n",
       "4  1000005    Seoul   Seongdong-gu   True               Seongdong-gu APT   \n",
       "\n",
       "   confirmed   latitude   longitude  \n",
       "0         98  37.508163  126.884387  \n",
       "1         20  37.592888  127.056766  \n",
       "2         41  37.481059  126.894343  \n",
       "3         14   37.63369    126.9165  \n",
       "4         13   37.55713    127.0403  "
      ]
     },
     "execution_count": 137,
     "metadata": {},
     "output_type": "execute_result"
    }
   ],
   "source": [
    "# import pandas and import data set\n",
    "import pandas as pd\n",
    "import numpy as np\n",
    "%matplotlib inline\n",
    "import matplotlib.pyplot as plt\n",
    "\n",
    "df = pd.read_csv('~/Documents/Pylaides/2_Bootcamp-Data-Analysis-beginner-apr-may2020_mine/lessons/Case.csv')\n",
    "df.head()"
   ]
  },
  {
   "cell_type": "markdown",
   "metadata": {},
   "source": [
    "## Explore the dataset"
   ]
  },
  {
   "cell_type": "code",
   "execution_count": 3,
   "metadata": {},
   "outputs": [
    {
     "data": {
      "text/plain": [
       "(112, 8)"
      ]
     },
     "execution_count": 3,
     "metadata": {},
     "output_type": "execute_result"
    }
   ],
   "source": [
    "#First we will see the number of rows and columns\n",
    "\n",
    "df.shape # we have a total of 112 rows and 8 columns"
   ]
  },
  {
   "cell_type": "code",
   "execution_count": 7,
   "metadata": {},
   "outputs": [
    {
     "data": {
      "text/plain": [
       "str"
      ]
     },
     "execution_count": 7,
     "metadata": {},
     "output_type": "execute_result"
    }
   ],
   "source": [
    "#Check for the datatypes of the columns in the dataset\n",
    "df.dtypes\n",
    "\n",
    "# if we want to check the columns which have a datatype equal to object we use this approach\n",
    "type(df['province'][0]) # from this we can see that province is string type which is corect "
   ]
  },
  {
   "cell_type": "code",
   "execution_count": 47,
   "metadata": {},
   "outputs": [
    {
     "name": "stdout",
     "output_type": "stream",
     "text": [
      "<class 'pandas.core.frame.DataFrame'>\n",
      "RangeIndex: 112 entries, 0 to 111\n",
      "Data columns (total 8 columns):\n",
      " #   Column          Non-Null Count  Dtype \n",
      "---  ------          --------------  ----- \n",
      " 0   case_id         112 non-null    int64 \n",
      " 1   province        112 non-null    object\n",
      " 2   city            112 non-null    object\n",
      " 3   group           112 non-null    bool  \n",
      " 4   infection_case  112 non-null    object\n",
      " 5   confirmed       112 non-null    int64 \n",
      " 6   latitude        112 non-null    object\n",
      " 7   longitude       112 non-null    object\n",
      "dtypes: bool(1), int64(2), object(5)\n",
      "memory usage: 6.4+ KB\n"
     ]
    }
   ],
   "source": [
    "#display a summary of the dataset\n",
    "df.info() # there is no nulls in the dataset however we should check is there some other issues such as NaN, or other signs that are not useful"
   ]
  },
  {
   "cell_type": "code",
   "execution_count": 10,
   "metadata": {},
   "outputs": [
    {
     "data": {
      "text/plain": [
       "case_id           112\n",
       "province           17\n",
       "city               34\n",
       "group               2\n",
       "infection_case     43\n",
       "confirmed          52\n",
       "latitude           41\n",
       "longitude          41\n",
       "dtype: int64"
      ]
     },
     "execution_count": 10,
     "metadata": {},
     "output_type": "execute_result"
    }
   ],
   "source": [
    "#display the number of unique values for each column\n",
    "df.nunique()"
   ]
  },
  {
   "cell_type": "code",
   "execution_count": 13,
   "metadata": {},
   "outputs": [
    {
     "data": {
      "text/plain": [
       "count     112.000000\n",
       "mean       87.446429\n",
       "std       440.293981\n",
       "min         0.000000\n",
       "25%         5.000000\n",
       "50%        10.000000\n",
       "75%        33.000000\n",
       "max      4510.000000\n",
       "Name: confirmed, dtype: float64"
      ]
     },
     "execution_count": 13,
     "metadata": {},
     "output_type": "execute_result"
    }
   ],
   "source": [
    "#we can also show descriptive statistics for column which have a data type equal to integer\n",
    "df.confirmed.describe()"
   ]
  },
  {
   "cell_type": "code",
   "execution_count": 17,
   "metadata": {},
   "outputs": [
    {
     "data": {
      "text/plain": [
       "0"
      ]
     },
     "execution_count": 17,
     "metadata": {},
     "output_type": "execute_result"
    }
   ],
   "source": [
    "#check for duplicated rows\n",
    "sum(df.case_id.duplicated())\n"
   ]
  },
  {
   "cell_type": "code",
   "execution_count": 24,
   "metadata": {},
   "outputs": [
    {
     "name": "stdout",
     "output_type": "stream",
     "text": [
      "0         case_id          province           city ...\n",
      "1                                                  NaN\n",
      "2                                                  NaN\n",
      "dtype: object\n"
     ]
    }
   ],
   "source": [
    "#check for the null values\n",
    "s = pd.Series([df, np.nan, np.nan])\n",
    "s.isna().sum()\n",
    "# it seems that we have a NaN value in city column\n",
    "print(s)"
   ]
  },
  {
   "cell_type": "code",
   "execution_count": 61,
   "metadata": {},
   "outputs": [
    {
     "data": {
      "text/html": [
       "<div>\n",
       "<style scoped>\n",
       "    .dataframe tbody tr th:only-of-type {\n",
       "        vertical-align: middle;\n",
       "    }\n",
       "\n",
       "    .dataframe tbody tr th {\n",
       "        vertical-align: top;\n",
       "    }\n",
       "\n",
       "    .dataframe thead th {\n",
       "        text-align: right;\n",
       "    }\n",
       "</style>\n",
       "<table border=\"1\" class=\"dataframe\">\n",
       "  <thead>\n",
       "    <tr style=\"text-align: right;\">\n",
       "      <th></th>\n",
       "      <th>case_id</th>\n",
       "      <th>province</th>\n",
       "      <th>city</th>\n",
       "      <th>group</th>\n",
       "      <th>infection_case</th>\n",
       "      <th>confirmed</th>\n",
       "      <th>latitude</th>\n",
       "      <th>longitude</th>\n",
       "    </tr>\n",
       "  </thead>\n",
       "  <tbody>\n",
       "    <tr>\n",
       "      <th>8</th>\n",
       "      <td>1000009</td>\n",
       "      <td>Seoul</td>\n",
       "      <td>-</td>\n",
       "      <td>False</td>\n",
       "      <td>overseas inflow</td>\n",
       "      <td>313</td>\n",
       "      <td>-</td>\n",
       "      <td>-</td>\n",
       "    </tr>\n",
       "    <tr>\n",
       "      <th>9</th>\n",
       "      <td>1000010</td>\n",
       "      <td>Seoul</td>\n",
       "      <td>-</td>\n",
       "      <td>False</td>\n",
       "      <td>contact with patient</td>\n",
       "      <td>18</td>\n",
       "      <td>-</td>\n",
       "      <td>-</td>\n",
       "    </tr>\n",
       "    <tr>\n",
       "      <th>10</th>\n",
       "      <td>1000011</td>\n",
       "      <td>Seoul</td>\n",
       "      <td>-</td>\n",
       "      <td>False</td>\n",
       "      <td>etc</td>\n",
       "      <td>23</td>\n",
       "      <td>-</td>\n",
       "      <td>-</td>\n",
       "    </tr>\n",
       "    <tr>\n",
       "      <th>17</th>\n",
       "      <td>1100007</td>\n",
       "      <td>Busan</td>\n",
       "      <td>-</td>\n",
       "      <td>False</td>\n",
       "      <td>overseas inflow</td>\n",
       "      <td>21</td>\n",
       "      <td>-</td>\n",
       "      <td>-</td>\n",
       "    </tr>\n",
       "    <tr>\n",
       "      <th>18</th>\n",
       "      <td>1100008</td>\n",
       "      <td>Busan</td>\n",
       "      <td>-</td>\n",
       "      <td>False</td>\n",
       "      <td>contact with patient</td>\n",
       "      <td>18</td>\n",
       "      <td>-</td>\n",
       "      <td>-</td>\n",
       "    </tr>\n",
       "  </tbody>\n",
       "</table>\n",
       "</div>"
      ],
      "text/plain": [
       "    case_id province city  group        infection_case  confirmed latitude  \\\n",
       "8   1000009    Seoul    -  False       overseas inflow        313        -   \n",
       "9   1000010    Seoul    -  False  contact with patient         18        -   \n",
       "10  1000011    Seoul    -  False                   etc         23        -   \n",
       "17  1100007    Busan    -  False       overseas inflow         21        -   \n",
       "18  1100008    Busan    -  False  contact with patient         18        -   \n",
       "\n",
       "   longitude  \n",
       "8          -  \n",
       "9          -  \n",
       "10         -  \n",
       "17         -  \n",
       "18         -  "
      ]
     },
     "execution_count": 61,
     "metadata": {},
     "output_type": "execute_result"
    }
   ],
   "source": [
    "df.groupby(['city'])['case_id'].count()\n",
    "# it seems that there are 50ty rows that have a dash sing in it.\n",
    "#we should check why this is the case and what we can do about it\n",
    "\n",
    "nocity = df.query('city == \"-\"')\n",
    "\n",
    "nocity.head() # it seems that we can't use infection_case column to extract information about city, therefore the city coulumn should not be used for further analysis\n"
   ]
  },
  {
   "cell_type": "code",
   "execution_count": 154,
   "metadata": {},
   "outputs": [
    {
     "name": "stdout",
     "output_type": "stream",
     "text": [
      "44.64\n"
     ]
    }
   ],
   "source": [
    "# Next step is to check province column since the city coulumn is not very useful since there is \n",
    "# a total of 45 percent missing information in that column\n",
    "print(round((50/112)*100,2))"
   ]
  },
  {
   "cell_type": "code",
   "execution_count": 160,
   "metadata": {},
   "outputs": [
    {
     "data": {
      "text/plain": [
       "province\n",
       "Gyeongsangbuk-do     12\n",
       "Seoul                11\n",
       "Gyeongsangnam-do     10\n",
       "Daegu                 9\n",
       "Gyeonggi-do           9\n",
       "Busan                 9\n",
       "Gangwon-do            6\n",
       "Daejeon               6\n",
       "Sejong                6\n",
       "Incheon               5\n",
       "Jeollanam-do          5\n",
       "Chungcheongnam-do     5\n",
       "Chungcheongbuk-do     5\n",
       "Gwangju               4\n",
       "Ulsan                 4\n",
       "Jeju-do               3\n",
       "Jeollabuk-do          3\n",
       "Name: confirmed, dtype: int64"
      ]
     },
     "execution_count": 160,
     "metadata": {},
     "output_type": "execute_result"
    }
   ],
   "source": [
    "#there is not any strange character regarding provinces names\n",
    "df.groupby(['province'])['confirmed'].count().sort_values(ascending=False)"
   ]
  },
  {
   "cell_type": "markdown",
   "metadata": {},
   "source": [
    "## Answers to the given questions"
   ]
  },
  {
   "cell_type": "markdown",
   "metadata": {},
   "source": [
    "### Question 1"
   ]
  },
  {
   "cell_type": "markdown",
   "metadata": {},
   "source": [
    "Since we established that we missed a great number of information in city column, I decided to use onlu province column in order to answer on the given questions."
   ]
  },
  {
   "cell_type": "code",
   "execution_count": 158,
   "metadata": {},
   "outputs": [
    {
     "name": "stdout",
     "output_type": "stream",
     "text": [
      "There is a total of 17 provinces in dataset.\n"
     ]
    }
   ],
   "source": [
    "n_province = df.province.nunique()\n",
    "\n",
    "print('There is a total of', n_province, 'provinces in dataset.')"
   ]
  },
  {
   "cell_type": "markdown",
   "metadata": {},
   "source": [
    "### Question 2"
   ]
  },
  {
   "cell_type": "markdown",
   "metadata": {},
   "source": [
    "Number of confirmed cases in each province."
   ]
  },
  {
   "cell_type": "code",
   "execution_count": 153,
   "metadata": {},
   "outputs": [
    {
     "data": {
      "text/plain": [
       "province\n",
       "Daegu                6634\n",
       "Gyeongsangbuk-do     1310\n",
       "Seoul                 565\n",
       "Gyeonggi-do           539\n",
       "Busan                 137\n",
       "Chungcheongnam-do     135\n",
       "Gyeongsangnam-do      115\n",
       "Incheon                78\n",
       "Gangwon-do             51\n",
       "Sejong                 46\n",
       "Ulsan                  42\n",
       "Chungcheongbuk-do      38\n",
       "Daejeon                33\n",
       "Gwangju                30\n",
       "Jeollabuk-do           14\n",
       "Jeollanam-do           14\n",
       "Jeju-do                13\n",
       "Name: confirmed, dtype: int64"
      ]
     },
     "execution_count": 153,
     "metadata": {},
     "output_type": "execute_result"
    }
   ],
   "source": [
    "province_info = (df.groupby(['province'])['confirmed'].sum().sort_values(ascending=False))\n",
    "province_info"
   ]
  },
  {
   "cell_type": "code",
   "execution_count": 161,
   "metadata": {},
   "outputs": [
    {
     "data": {
      "image/png": "[encoded data removed]",
      "text/plain": [
       "<Figure size 720x432 with 1 Axes>"
      ]
     },
     "metadata": {
      "needs_background": "light"
     },
     "output_type": "display_data"
    }
   ],
   "source": [
    "# create plot \n",
    "province = df.groupby(['province']).sum()['confirmed'].sort_values(ascending=False).plot(kind='bar', width=0.9, color='lightblue', figsize = (10,6))\n",
    "province.set_xlabel(\"Provinces in South Korea\", fontsize=16)\n",
    "province.set_ylabel(\"Number of confirmed cases\", fontsize=16)\n",
    "plt.show ()"
   ]
  },
  {
   "cell_type": "markdown",
   "metadata": {},
   "source": [
    "### Question 3"
   ]
  },
  {
   "cell_type": "code",
   "execution_count": 162,
   "metadata": {},
   "outputs": [
    {
     "data": {
      "image/png": "[encoded data removed]",
      "text/plain": [
       "<Figure size 720x432 with 1 Axes>"
      ]
     },
     "metadata": {
      "needs_background": "light"
     },
     "output_type": "display_data"
    }
   ],
   "source": [
    "# top 5 provinces by number of confirmed cases\n",
    "province = df.groupby(['province']).sum()['confirmed'].sort_values(ascending=False).head(5).plot(kind='bar', width=0.9, color='lightblue', figsize = (10,6))\n",
    "province.set_xlabel(\"Provinces in South Korea\", fontsize=16)\n",
    "province.set_ylabel(\"Number of confirmed cases\", fontsize=16)\n",
    "plt.show ()"
   ]
  },
  {
   "cell_type": "markdown",
   "metadata": {},
   "source": [
    "### Question 4"
   ]
  },
  {
   "cell_type": "markdown",
   "metadata": {},
   "source": [
    "The meaning of group column is definded on Kagle webpage as:\n",
    "- Group: TRUE: group infection / FALSE: not group\n",
    "   -    If the value is 'TRUE' in this column, the value of 'infection_cases' means the name of group.\n",
    "   -  The values named 'contact with patient', 'overseas inflow' and 'etc' are not group infection."
   ]
  },
  {
   "cell_type": "code",
   "execution_count": 148,
   "metadata": {},
   "outputs": [
    {
     "data": {
      "image/png": "[encoded data removed]",
      "text/plain": [
       "<Figure size 720x432 with 1 Axes>"
      ]
     },
     "metadata": {
      "needs_background": "light"
     },
     "output_type": "display_data"
    }
   ],
   "source": [
    "# plot\n",
    "group = df.groupby(['group', 'province'])['confirmed'].sum().sort_values()\n",
    "group_plot = group.unstack(0).plot.bar(width=0.9, figsize = (10,6))\n",
    "group_plot.set_xlabel(\"Provinces in South Korea\", fontsize=16)\n",
    "group_plot.set_ylabel(\"Number of confirmed cases\", fontsize=16)\n",
    "plt.show ()"
   ]
  }
 ],
 "metadata": {
  "kernelspec": {
   "display_name": "Python 3",
   "language": "python",
   "name": "python3"
  },
  "language_info": {
   "codemirror_mode": {
    "name": "ipython",
    "version": 3
   },
   "file_extension": ".py",
   "mimetype": "text/x-python",
   "name": "python",
   "nbconvert_exporter": "python",
   "pygments_lexer": "ipython3",
   "version": "3.7.6"
  }
 },
 "nbformat": 4,
 "nbformat_minor": 4
}
