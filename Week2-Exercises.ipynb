{
 "cells": [
  {
   "cell_type": "markdown",
   "metadata": {},
   "source": [
    "# Exercise 1\n",
    "Welcome every name from `names`\n",
    "\n",
    "1. Create a list of 3 names\n",
    "\n",
    "2. Create a fruitless function that prints \"hello\" and the name from this name list\n",
    "\n",
    "3. The argument of your function is the name list"
   ]
  },
  {
   "cell_type": "code",
   "execution_count": 8,
   "metadata": {},
   "outputs": [
    {
     "name": "stdout",
     "output_type": "stream",
     "text": [
      "['Marina', 'Nona', 'Konrad']\n"
     ]
    }
   ],
   "source": [
    "names = ['Marina', 'Nona', 'Konrad']\n",
    "print(names)"
   ]
  },
  {
   "cell_type": "code",
   "execution_count": 9,
   "metadata": {},
   "outputs": [
    {
     "name": "stdout",
     "output_type": "stream",
     "text": [
      "Hello Marina\n",
      "Hello Nona\n",
      "Hello Konrad\n"
     ]
    }
   ],
   "source": [
    "for i in names:\n",
    "    print('Hello', i)"
   ]
  },
  {
   "cell_type": "code",
   "execution_count": 10,
   "metadata": {},
   "outputs": [],
   "source": [
    "def greetings(names):\n",
    "    for name in names:\n",
    "        print('Hello',name)"
   ]
  },
  {
   "cell_type": "code",
   "execution_count": 11,
   "metadata": {},
   "outputs": [
    {
     "name": "stdout",
     "output_type": "stream",
     "text": [
      "Hello Marina\n",
      "Hello Nona\n",
      "Hello Konrad\n"
     ]
    }
   ],
   "source": [
    "greetings(names)"
   ]
  },
  {
   "cell_type": "markdown",
   "metadata": {},
   "source": [
    "# Exercise 2\n",
    "- Write a Python program to calculate the sum of three given numbers\n",
    "- All the numbers should be the arguments of this function\n",
    "- If sum of the numbers is odd, then return a string saying that the numbers are odd\n",
    "- Your functions does not have to print because it is fruitful\n",
    "- Use a built-in function to calculate the sum, not an operator"
   ]
  },
  {
   "cell_type": "code",
   "execution_count": 12,
   "metadata": {},
   "outputs": [],
   "source": [
    "# make a function that sum three given numbers\n",
    "def sum_three_num(a,b,c):\n",
    "    return a+b+c"
   ]
  },
  {
   "cell_type": "code",
   "execution_count": 18,
   "metadata": {},
   "outputs": [
    {
     "name": "stdout",
     "output_type": "stream",
     "text": [
      "9\n"
     ]
    }
   ],
   "source": [
    "a=2\n",
    "b=3\n",
    "c=4\n",
    "print(sum_three_num(a,b,c))"
   ]
  },
  {
   "cell_type": "code",
   "execution_count": 19,
   "metadata": {},
   "outputs": [
    {
     "name": "stdout",
     "output_type": "stream",
     "text": [
      "The sum of numbers is odd\n"
     ]
    }
   ],
   "source": [
    "#if the sum of numbers is odd, then return a strign saying that the numbers are odd\n",
    "def sum_three_num_2(a,b,c):\n",
    "    suma = a+b+c\n",
    "    if suma%2 == 0:\n",
    "        return suma\n",
    "    else:\n",
    "        return 'The sum of numbers is odd'\n",
    "print(sum_three_num_2(a,b,c))"
   ]
  },
  {
   "cell_type": "code",
   "execution_count": 22,
   "metadata": {},
   "outputs": [
    {
     "name": "stdout",
     "output_type": "stream",
     "text": [
      "The sum of numbers is odd\n"
     ]
    }
   ],
   "source": [
    "#use a built-in function to calculate the sum, not an operator\n",
    "\n",
    "def sum_three_num_3(a,b,c):\n",
    "    lista = [a,b,c]\n",
    "    suma=sum(lista)\n",
    "    if suma%2 == 0:\n",
    "        return suma\n",
    "    else:\n",
    "        return 'The sum of numbers is odd'\n",
    "\n",
    "print(sum_three_num_3(a,b,c))\n",
    "    "
   ]
  },
  {
   "cell_type": "markdown",
   "metadata": {},
   "source": [
    "# Exercise 3\n",
    "Write a Python program to concatenate all elements in a list to a string and return it"
   ]
  },
  {
   "cell_type": "code",
   "execution_count": 83,
   "metadata": {},
   "outputs": [],
   "source": [
    "list_items = ['dogs', 3, 'ball', 'table', 23]\n"
   ]
  },
  {
   "cell_type": "code",
   "execution_count": 69,
   "metadata": {},
   "outputs": [
    {
     "name": "stdout",
     "output_type": "stream",
     "text": [
      "dogs3balltable23\n"
     ]
    }
   ],
   "source": [
    "def concatenate_items(list_items):\n",
    "    set_items = str(list_items[0])\n",
    "    for item in list_items[1:]:\n",
    "        set_items = set_items + str(item)\n",
    "    return set_items\n",
    "print(concatenate_items(list_items))"
   ]
  },
  {
   "cell_type": "code",
   "execution_count": 71,
   "metadata": {},
   "outputs": [
    {
     "name": "stdout",
     "output_type": "stream",
     "text": [
      "dogs 3 ball table 23\n"
     ]
    }
   ],
   "source": [
    "def concatenate_items_2(list_items):\n",
    "    set_items = str(list_items[0])\n",
    "    for item in list_items[1:]:\n",
    "        set_items = set_items + \" \" + str(item)\n",
    "    return set_items\n",
    "print(concatenate_items_2(list_items))"
   ]
  },
  {
   "cell_type": "code",
   "execution_count": 90,
   "metadata": {},
   "outputs": [
    {
     "data": {
      "text/plain": [
       "'dogs 3 ball table 23'"
      ]
     },
     "execution_count": 90,
     "metadata": {},
     "output_type": "execute_result"
    }
   ],
   "source": [
    "# or using the list comprehension\n",
    "\"\".join(str(item) for item in list_items) \n"
   ]
  },
  {
   "cell_type": "markdown",
   "metadata": {},
   "source": [
    "# Exercise 4\n",
    "Write a Python program to sum three given integers. However, if two values are equal sum will be zero\n",
    "- use //\tfor floor division"
   ]
  },
  {
   "cell_type": "code",
   "execution_count": 89,
   "metadata": {},
   "outputs": [
    {
     "name": "stdout",
     "output_type": "stream",
     "text": [
      "9\n"
     ]
    }
   ],
   "source": [
    "d=2\n",
    "e=4\n",
    "f=3\n",
    "\n",
    "def sum_integers(d,e,f):\n",
    "    if d==e or d==f or e==f:\n",
    "        total = 0\n",
    "    else:\n",
    "        total = d+e+f\n",
    "    return total\n",
    "print(sum_integers(d,e,f))"
   ]
  }
 ],
 "metadata": {
  "kernelspec": {
   "display_name": "Python 3",
   "language": "python",
   "name": "python3"
  },
  "language_info": {
   "codemirror_mode": {
    "name": "ipython",
    "version": 3
   },
   "file_extension": ".py",
   "mimetype": "text/x-python",
   "name": "python",
   "nbconvert_exporter": "python",
   "pygments_lexer": "ipython3",
   "version": "3.7.6"
  }
 },
 "nbformat": 4,
 "nbformat_minor": 4
}
